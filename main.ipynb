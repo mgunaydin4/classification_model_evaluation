{
 "cells": [
  {
   "cell_type": "markdown",
   "source": [
    "# Sınıflandırma Modeli Değerlendirme(Classification Model Evaluation)"
   ],
   "metadata": {
    "collapsed": false
   },
   "id": "3f916f71a18060f3"
  },
  {
   "cell_type": "code",
   "outputs": [],
   "source": [
    "# Kütüphanelerin import edilmesi\n",
    "import pandas as pd\n",
    "import numpy as np\n",
    "import seaborn as sns\n",
    "import matplotlib.pyplot as plt\n",
    "from sklearn.metrics import confusion_matrix,accuracy_score, classification_report\n",
    "pd.set_option('display.max_columns', None)\n",
    "pd.set_option('display.width', 500)"
   ],
   "metadata": {
    "collapsed": false,
    "ExecuteTime": {
     "end_time": "2024-10-13T01:10:41.631030Z",
     "start_time": "2024-10-13T01:10:41.526851Z"
    }
   },
   "id": "99f8b17076e722b7",
   "execution_count": 1
  },
  {
   "cell_type": "code",
   "outputs": [],
   "source": [
    "# Veri Setinin Oluşturulması\n",
    "gercek_deger = [1, 1, 1, 1, 1, 1, 0, 0, 0, 0]\n",
    "model_olasilik_tahmini = [0.7, 0.8, 0.65, 0.9, 0.45, 0.5, 0.55, 0.35, 0.4, 0.25]\n",
    "\n",
    "\n",
    "df = pd.DataFrame({\n",
    "    'Gerçek Değer': gercek_deger,\n",
    "    'Model Olasılık Tahmini (1 sınıfına ait olma olasılığı)': model_olasilik_tahmini\n",
    "})"
   ],
   "metadata": {
    "collapsed": false,
    "ExecuteTime": {
     "end_time": "2024-10-13T01:10:59.821084Z",
     "start_time": "2024-10-13T01:10:59.816578Z"
    }
   },
   "id": "1591c125110c6442",
   "execution_count": 2
  },
  {
   "cell_type": "code",
   "outputs": [
    {
     "data": {
      "text/plain": "   Gerçek Değer  Model Olasılık Tahmini (1 sınıfına ait olma olasılığı)\n0             1                                               0.70     \n1             1                                               0.80     \n2             1                                               0.65     \n3             1                                               0.90     \n4             1                                               0.45     \n5             1                                               0.50     \n6             0                                               0.55     \n7             0                                               0.35     \n8             0                                               0.40     \n9             0                                               0.25     ",
      "text/html": "<div>\n<style scoped>\n    .dataframe tbody tr th:only-of-type {\n        vertical-align: middle;\n    }\n\n    .dataframe tbody tr th {\n        vertical-align: top;\n    }\n\n    .dataframe thead th {\n        text-align: right;\n    }\n</style>\n<table border=\"1\" class=\"dataframe\">\n  <thead>\n    <tr style=\"text-align: right;\">\n      <th></th>\n      <th>Gerçek Değer</th>\n      <th>Model Olasılık Tahmini (1 sınıfına ait olma olasılığı)</th>\n    </tr>\n  </thead>\n  <tbody>\n    <tr>\n      <th>0</th>\n      <td>1</td>\n      <td>0.70</td>\n    </tr>\n    <tr>\n      <th>1</th>\n      <td>1</td>\n      <td>0.80</td>\n    </tr>\n    <tr>\n      <th>2</th>\n      <td>1</td>\n      <td>0.65</td>\n    </tr>\n    <tr>\n      <th>3</th>\n      <td>1</td>\n      <td>0.90</td>\n    </tr>\n    <tr>\n      <th>4</th>\n      <td>1</td>\n      <td>0.45</td>\n    </tr>\n    <tr>\n      <th>5</th>\n      <td>1</td>\n      <td>0.50</td>\n    </tr>\n    <tr>\n      <th>6</th>\n      <td>0</td>\n      <td>0.55</td>\n    </tr>\n    <tr>\n      <th>7</th>\n      <td>0</td>\n      <td>0.35</td>\n    </tr>\n    <tr>\n      <th>8</th>\n      <td>0</td>\n      <td>0.40</td>\n    </tr>\n    <tr>\n      <th>9</th>\n      <td>0</td>\n      <td>0.25</td>\n    </tr>\n  </tbody>\n</table>\n</div>"
     },
     "execution_count": 3,
     "metadata": {},
     "output_type": "execute_result"
    }
   ],
   "source": [
    "df"
   ],
   "metadata": {
    "collapsed": false,
    "ExecuteTime": {
     "end_time": "2024-10-13T01:11:09.213916Z",
     "start_time": "2024-10-13T01:11:09.203694Z"
    }
   },
   "id": "2f428e8621ad17d0",
   "execution_count": 3
  },
  {
   "cell_type": "code",
   "outputs": [
    {
     "data": {
      "text/plain": "   Gerçek Değer  Tahmin Edilen Değer  Model Olasılık Tahmini (1 sınıfına ait olma olasılığı)\n0             1                    1                                               0.70     \n1             1                    1                                               0.80     \n2             1                    1                                               0.65     \n3             1                    1                                               0.90     \n4             1                    0                                               0.45     \n5             1                    1                                               0.50     \n6             0                    1                                               0.55     \n7             0                    0                                               0.35     \n8             0                    0                                               0.40     \n9             0                    0                                               0.25     ",
      "text/html": "<div>\n<style scoped>\n    .dataframe tbody tr th:only-of-type {\n        vertical-align: middle;\n    }\n\n    .dataframe tbody tr th {\n        vertical-align: top;\n    }\n\n    .dataframe thead th {\n        text-align: right;\n    }\n</style>\n<table border=\"1\" class=\"dataframe\">\n  <thead>\n    <tr style=\"text-align: right;\">\n      <th></th>\n      <th>Gerçek Değer</th>\n      <th>Tahmin Edilen Değer</th>\n      <th>Model Olasılık Tahmini (1 sınıfına ait olma olasılığı)</th>\n    </tr>\n  </thead>\n  <tbody>\n    <tr>\n      <th>0</th>\n      <td>1</td>\n      <td>1</td>\n      <td>0.70</td>\n    </tr>\n    <tr>\n      <th>1</th>\n      <td>1</td>\n      <td>1</td>\n      <td>0.80</td>\n    </tr>\n    <tr>\n      <th>2</th>\n      <td>1</td>\n      <td>1</td>\n      <td>0.65</td>\n    </tr>\n    <tr>\n      <th>3</th>\n      <td>1</td>\n      <td>1</td>\n      <td>0.90</td>\n    </tr>\n    <tr>\n      <th>4</th>\n      <td>1</td>\n      <td>0</td>\n      <td>0.45</td>\n    </tr>\n    <tr>\n      <th>5</th>\n      <td>1</td>\n      <td>1</td>\n      <td>0.50</td>\n    </tr>\n    <tr>\n      <th>6</th>\n      <td>0</td>\n      <td>1</td>\n      <td>0.55</td>\n    </tr>\n    <tr>\n      <th>7</th>\n      <td>0</td>\n      <td>0</td>\n      <td>0.35</td>\n    </tr>\n    <tr>\n      <th>8</th>\n      <td>0</td>\n      <td>0</td>\n      <td>0.40</td>\n    </tr>\n    <tr>\n      <th>9</th>\n      <td>0</td>\n      <td>0</td>\n      <td>0.25</td>\n    </tr>\n  </tbody>\n</table>\n</div>"
     },
     "execution_count": 4,
     "metadata": {},
     "output_type": "execute_result"
    }
   ],
   "source": [
    "# Classification Threshold değerine göre tahmin değerlerinin ayarlanması\n",
    "df[\"Tahmin Edilen Değer\"] = [1 if col >= 0.5 else 0 for col in df[\"Model Olasılık Tahmini (1 sınıfına ait olma olasılığı)\"]]\n",
    "df = df[[\"Gerçek Değer\", \"Tahmin Edilen Değer\", \"Model Olasılık Tahmini (1 sınıfına ait olma olasılığı)\"]]\n",
    "df"
   ],
   "metadata": {
    "collapsed": false,
    "ExecuteTime": {
     "end_time": "2024-10-13T01:11:28.814706Z",
     "start_time": "2024-10-13T01:11:28.806976Z"
    }
   },
   "id": "aca6ab8278f62109",
   "execution_count": 4
  },
  {
   "cell_type": "code",
   "outputs": [
    {
     "data": {
      "text/plain": "<Figure size 640x480 with 2 Axes>",
      "image/png": "[encoded data removed]"
     },
     "metadata": {},
     "output_type": "display_data"
    }
   ],
   "source": [
    "# Confusion Matrisinin Görselleştirilmesi\n",
    "y = df[\"Gerçek Değer\"]\n",
    "y_pred = df[\"Tahmin Edilen Değer\"]\n",
    "\n",
    "def plot_confusion_matrix(y, y_pred):\n",
    "    acc = round(accuracy_score(y, y_pred), 2)\n",
    "    cm = confusion_matrix(y, y_pred)\n",
    "    sns.heatmap(cm, annot=True, fmt=\".0f\")\n",
    "    plt.xlabel('y_pred')\n",
    "    plt.ylabel('y')\n",
    "    plt.title('Accuracy Score: {0}'.format(acc), size=10)\n",
    "    plt.show()\n",
    "\n",
    "plot_confusion_matrix(y, y_pred)"
   ],
   "metadata": {
    "collapsed": false,
    "ExecuteTime": {
     "end_time": "2024-10-13T01:11:48.370599Z",
     "start_time": "2024-10-13T01:11:48.276559Z"
    }
   },
   "id": "63960dc4df3273e1",
   "execution_count": 5
  },
  {
   "cell_type": "code",
   "outputs": [
    {
     "name": "stdout",
     "output_type": "stream",
     "text": [
      "              precision    recall  f1-score   support\n",
      "\n",
      "           0       0.75      0.75      0.75         4\n",
      "           1       0.83      0.83      0.83         6\n",
      "\n",
      "    accuracy                           0.80        10\n",
      "   macro avg       0.79      0.79      0.79        10\n",
      "weighted avg       0.80      0.80      0.80        10\n"
     ]
    }
   ],
   "source": [
    "# Classification Report\n",
    "print(classification_report(y, y_pred)) "
   ],
   "metadata": {
    "collapsed": false,
    "ExecuteTime": {
     "end_time": "2024-10-13T01:12:11.719239Z",
     "start_time": "2024-10-13T01:12:11.709677Z"
    }
   },
   "id": "91d746d1ce6638fe",
   "execution_count": 6
  },
  {
   "cell_type": "code",
   "outputs": [
    {
     "name": "stdout",
     "output_type": "stream",
     "text": [
      "Confusion Matrix:\n",
      " [[3 1]\n",
      " [1 5]]\n"
     ]
    }
   ],
   "source": [
    "# Manuel Hesaplama\n",
    "cm = confusion_matrix(y, y_pred)\n",
    "print(\"Confusion Matrix:\\n\",cm)"
   ],
   "metadata": {
    "collapsed": false,
    "ExecuteTime": {
     "end_time": "2024-10-13T01:12:28.602361Z",
     "start_time": "2024-10-13T01:12:28.598053Z"
    }
   },
   "id": "ed8d4383b66e3075",
   "execution_count": 7
  },
  {
   "cell_type": "code",
   "outputs": [
    {
     "name": "stdout",
     "output_type": "stream",
     "text": [
      "TP: 5\n",
      "TN: 3\n",
      "FP: 1\n",
      "FN: 1\n"
     ]
    }
   ],
   "source": [
    "TP = cm[1,1]\n",
    "TN = cm[0,0]\n",
    "FP = cm[0,1]\n",
    "FN = cm[1,0]\n",
    "\n",
    "print(\"TP: {}\\nTN: {}\\nFP: {}\\nFN: {}\\n\".format(TP, TN, FP, FN))"
   ],
   "metadata": {
    "collapsed": false,
    "ExecuteTime": {
     "end_time": "2024-10-13T01:14:18.328498Z",
     "start_time": "2024-10-13T01:14:18.324924Z"
    }
   },
   "id": "734cf14963882017",
   "execution_count": 11
  },
  {
   "cell_type": "code",
   "outputs": [
    {
     "name": "stdout",
     "output_type": "stream",
     "text": [
      "Accuary Score: 0.8\n",
      "Precision: 0.8333333333333334\n",
      "Recall: 0.8333333333333334\n",
      "F1 Score: 0.8333333333333334\n"
     ]
    }
   ],
   "source": [
    "# Accuary: Doğru sınıflandırma oranı => 0.8\n",
    "acc = (TP + TN) / np.sum(cm)\n",
    "\n",
    "# Precision: Pozitif sınıf (1) tahminlerinin başarı oranıdır. => 0.83\n",
    "precision = TP / (TP + FP)\n",
    "\n",
    "# Recall: Pozitif sınıfın(1) doğru tahmin edilme oranıdır. => 0.83\n",
    "recall = TP / (TP + FN)\n",
    "\n",
    "# F1 Score => 0.83\n",
    "f1_score = 2 * (precision * recall) / (precision + recall)\n",
    "\n",
    "print(\"Accuary Score: {}\\nPrecision: {}\\nRecall: {}\\nF1 Score: {}\\n\".format(acc,precision, recall,f1_score))"
   ],
   "metadata": {
    "collapsed": false,
    "ExecuteTime": {
     "end_time": "2024-10-13T01:16:28.613306Z",
     "start_time": "2024-10-13T01:16:28.609671Z"
    }
   },
   "id": "6985e10005c34e89",
   "execution_count": 12
  },
  {
   "cell_type": "code",
   "outputs": [
    {
     "name": "stdout",
     "output_type": "stream",
     "text": [
      "TN_optional: 3\n",
      "FP_optional: 1\n",
      "FN_optional: 1\n",
      "TP_optional: 5\n"
     ]
    }
   ],
   "source": [
    "# Alternatif Çözüm\n",
    "cm.ravel()\n",
    "\n",
    "TN_optional, FP_optional, FN_optional, TP_optional = cm.ravel()\n",
    "\n",
    "print(\"TN_optional: {}\\nFP_optional: {}\\nFN_optional: {}\\nTP_optional: {}\".format(TN_optional, FP_optional, FN_optional, TP_optional))"
   ],
   "metadata": {
    "collapsed": false,
    "ExecuteTime": {
     "end_time": "2024-10-13T01:18:22.975353Z",
     "start_time": "2024-10-13T01:18:22.972085Z"
    }
   },
   "id": "b6aff8c9e7ea1588",
   "execution_count": 16
  },
  {
   "cell_type": "code",
   "outputs": [
    {
     "name": "stdout",
     "output_type": "stream",
     "text": [
      "Accuary: 0.8\n",
      "Precision: 0.8333333333333334\n",
      "Recall: 0.8333333333333334\n",
      "F1 Score: 0.8333333333333334\n"
     ]
    }
   ],
   "source": [
    "# Accuary Alternatif => 0.8\n",
    "accuary_optional = (TP_optional + TN_optional) / (TN_optional + FP_optional + FN_optional + TP_optional)\n",
    "\n",
    "# Precision Alternatif\n",
    "precision_optional = TP_optional / (TP_optional + FP_optional)\n",
    "\n",
    "# Recall Alternatif\n",
    "recall_optional = TP_optional / (TP_optional + FN_optional)\n",
    "\n",
    "# F1 Score Alternatif\n",
    "f1_score_optional = 2 * (precision_optional * recall_optional) / (precision_optional + recall_optional)\n",
    "\n",
    "print(\"Accuary: {}\\nPrecision: {}\\nRecall: {}\\nF1 Score: {}\\n\".format(accuary_optional, precision_optional, recall_optional, f1_score_optional))"
   ],
   "metadata": {
    "collapsed": false,
    "ExecuteTime": {
     "end_time": "2024-10-13T01:19:22.553619Z",
     "start_time": "2024-10-13T01:19:22.549427Z"
    }
   },
   "id": "7dd202c324af2545",
   "execution_count": 17
  },
  {
   "cell_type": "markdown",
   "source": [
    "# Tüm Sürecin Fonksiyonlaştırılması"
   ],
   "metadata": {
    "collapsed": false
   },
   "id": "e9103a27aa1caca4"
  },
  {
   "cell_type": "code",
   "outputs": [
    {
     "data": {
      "text/plain": "<Figure size 640x480 with 2 Axes>",
      "image/png": "[encoded data removed]"
     },
     "metadata": {},
     "output_type": "display_data"
    },
    {
     "name": "stdout",
     "output_type": "stream",
     "text": [
      "Classification Report:\n",
      "               precision    recall  f1-score   support\n",
      "\n",
      "           0       0.75      0.75      0.75         4\n",
      "           1       0.83      0.83      0.83         6\n",
      "\n",
      "    accuracy                           0.80        10\n",
      "   macro avg       0.79      0.79      0.79        10\n",
      "weighted avg       0.80      0.80      0.80        10\n",
      "\n",
      "Confusion Matrix:\n",
      " [[3 1]\n",
      " [1 5]]\n",
      "##################################################\n",
      "Manuel Hesaplama:\n",
      "##################################################\n",
      "Accuracy: 0.80\n",
      "Precision: 0.83\n",
      "Recall: 0.83\n",
      "F1 Score: 0.83\n",
      "##################################################\n",
      "Confusion Matrix:\n",
      " [[3 1]\n",
      " [1 5]]\n",
      "##################################################\n",
      "Alternatif Hesaplama:\n",
      "##################################################\n",
      "Accuracy: 0.80\n",
      "Precision: 0.83\n",
      "Recall: 0.83\n",
      "F1 Score: 0.83\n"
     ]
    }
   ],
   "source": [
    "def confusion_matrix_calculate(gercek_deger, model_olasilik_tahmini, threshold=0.5):\n",
    "    # DataFrame Oluşturma\n",
    "    df = pd.DataFrame({\n",
    "        'Gerçek Değer': gercek_deger,\n",
    "        'Model Olasılık Tahmini (1 sınıfına ait olma olasılığı)': model_olasilik_tahmini\n",
    "    })\n",
    "\n",
    "    # Tahmin edilen değerleri eşiğe göre ayarlama\n",
    "    df[\"Tahmin Edilen Değer\"] = [1 if prob >= threshold else 0 for prob in model_olasilik_tahmini]\n",
    "    df = df[[\"Gerçek Değer\", \"Tahmin Edilen Değer\", \"Model Olasılık Tahmini (1 sınıfına ait olma olasılığı)\"]]\n",
    "\n",
    "\n",
    "    y = df[\"Gerçek Değer\"]\n",
    "    y_pred = df[\"Tahmin Edilen Değer\"]\n",
    "\n",
    "    # Karışıklık matrisinin grafiğini çizme\n",
    "    def plot_confusion_matrix(y, y_pred):\n",
    "        acc = round(accuracy_score(y, y_pred), 2)\n",
    "        cm = confusion_matrix(y, y_pred)\n",
    "        sns.heatmap(cm, annot=True, fmt=\".0f\")\n",
    "        plt.xlabel('Tahmin Edilen Değer')\n",
    "        plt.ylabel('Gerçek Değer')\n",
    "        plt.title('Accuracy Score: {0}'.format(acc), size=10)\n",
    "        plt.show()\n",
    "\n",
    "    plot_confusion_matrix(y, y_pred)\n",
    "    print(\"Classification Report:\\n\", classification_report(y, y_pred))\n",
    "\n",
    "    # Confusion Matrisini Manuel Olarak Hesaplama\n",
    "    TP = cm[1, 1]\n",
    "    TN = cm[0, 0]\n",
    "    FP = cm[0, 1]\n",
    "    FN = cm[1, 0]\n",
    "\n",
    "    # Accuary: Doğru sınıflandırma oranı => 0.8\n",
    "    acc = (TP + TN) / np.sum(cm)\n",
    "    # Precision: Pozitif sınıf (1) tahminlerinin başarı oranıdır. => 0.83\n",
    "    precision = TP / (TP + FP)\n",
    "    # Recall: Pozitif sınıfın(1) doğru tahmin edilme oranıdır. => 0.83\n",
    "    recall = TP / (TP + FN)\n",
    "    # F1 Score => 0.83\n",
    "    f1_score = 2 * (precision * recall) / (precision + recall)\n",
    "\n",
    "    # Alternatif Çözüm\n",
    "    TN_optional, FP_optional, FN_optional, TP_optional = cm.ravel()\n",
    "\n",
    "    # Accuary Alternatif => 0.8\n",
    "    accuary_optional = (TP_optional + TN_optional) / (TN_optional + FP_optional + FN_optional + TP_optional)\n",
    "    # Precision Alternatif\n",
    "    precision_optional = TP_optional / (TP_optional + FP_optional)\n",
    "    # Recall Alternatif\n",
    "    recall_optional = TP_optional / (TP_optional + FN_optional)\n",
    "    # F1 Score Alternatif\n",
    "    f1_score_optional = 2 * (precision_optional * recall_optional) / (precision_optional + recall_optional)\n",
    "\n",
    "    # Manuel Hesaplama Sonucları\n",
    "    print(\"Confusion Matrix:\\n\", cm)\n",
    "    print(\"#\" * 50)\n",
    "    print(\"Manuel Hesaplama:\")\n",
    "    print(\"#\" * 50)\n",
    "    print(f\"Accuracy: {acc:.2f}\")\n",
    "    print(f\"Precision: {precision:.2f}\")\n",
    "    print(f\"Recall: {recall:.2f}\")\n",
    "    print(f\"F1 Score: {f1_score:.2f}\")\n",
    "    print(\"#\" * 50)\n",
    "\n",
    "    # Alternatif Hesaplama Sonucları\n",
    "    print(\"Confusion Matrix:\\n\", cm)\n",
    "    print(\"#\" * 50)\n",
    "    print(\"Alternatif Hesaplama:\")\n",
    "    print(\"#\" * 50)\n",
    "    print(f\"Accuracy: {accuary_optional:.2f}\")\n",
    "    print(f\"Precision: {precision_optional:.2f}\")\n",
    "    print(f\"Recall: {recall_optional:.2f}\")\n",
    "    print(f\"F1 Score: {f1_score_optional:.2f}\")\n",
    "\n",
    "\n",
    "# Örnek Kullanım\n",
    "gercek_deger = [1, 1, 1, 1, 1, 1, 0, 0, 0, 0]\n",
    "model_olasilik_tahmini = [0.7, 0.8, 0.65, 0.9, 0.45, 0.5, 0.55, 0.35, 0.4, 0.25]\n",
    "\n",
    "confusion_matrix_calculate(gercek_deger, model_olasilik_tahmini, threshold=0.5)\n"
   ],
   "metadata": {
    "collapsed": false,
    "ExecuteTime": {
     "end_time": "2024-10-13T01:20:19.706774Z",
     "start_time": "2024-10-13T01:20:19.620981Z"
    }
   },
   "id": "6d2e0d86c9bf62cb",
   "execution_count": 18
  },
  {
   "cell_type": "code",
   "outputs": [],
   "source": [],
   "metadata": {
    "collapsed": false
   },
   "id": "81e52ec4c36e2ac7"
  }
 ],
 "metadata": {
  "kernelspec": {
   "display_name": "Python 3",
   "language": "python",
   "name": "python3"
  },
  "language_info": {
   "codemirror_mode": {
    "name": "ipython",
    "version": 2
   },
   "file_extension": ".py",
   "mimetype": "text/x-python",
   "name": "python",
   "nbconvert_exporter": "python",
   "pygments_lexer": "ipython2",
   "version": "2.7.6"
  }
 },
 "nbformat": 4,
 "nbformat_minor": 5
}
